{
 "cells": [
  {
   "cell_type": "code",
   "execution_count": 1,
   "metadata": {},
   "outputs": [],
   "source": [
    "from PIL import Image, ImageOps, ImageDraw, ImageFont\n",
    "import os.path, sys\n",
    "import matplotlib.pyplot as plt\n",
    "\n",
    "\n",
    "\n",
    "max_rows = 2\n",
    "rotation_max_cols = 5\n",
    "filter_max_cols = 6"
   ]
  },
  {
   "cell_type": "code",
   "execution_count": 2,
   "metadata": {},
   "outputs": [],
   "source": [
    "x_labels = ['-30°', '-15°', '0°', '15°', '30°']\n",
    "images = [\n",
    "    {\n",
    "        'name': 'harebell_flower, EfficientNetB0 100%, Gradcam',\n",
    "        'title': 'harebell',\n",
    "        'path': './aug_crop1/rotation/harabell_efficientnet',\n",
    "        'scores': [0.9922, 0.9959, 0.9982, 0.9970, 0.9972]\n",
    "    },\n",
    "    {\n",
    "        'name': 'poutine_densenet, DenseNet 100%, Gradcam',\n",
    "        'title': 'poutine',\n",
    "        'path': './aug_crop1/rotation/poutine_densenet',\n",
    "        'scores': [0.9982, 0.9961, 0.9959, 0.9971, 0.9984]\n",
    "    },\n",
    "    {\n",
    "        'name': 'rose_resnet, Resnet 60%, Gradcam',\n",
    "        'title': 'red_rose',\n",
    "        'path': './aug_crop1/rotation/rose_resnet',\n",
    "        'scores': [0.9928, 0.9930, 0.9665, 0.9613, 0.9578]\n",
    "    }\n",
    "]"
   ]
  },
  {
   "cell_type": "code",
   "execution_count": 3,
   "metadata": {},
   "outputs": [],
   "source": [
    "x_labels = ['base', 'normalize', 'sharpen']\n",
    "images = [\n",
    "    {\n",
    "        'name': 'cairn, Resnet18 100%, GBP',\n",
    "        'title': 'cairn',\n",
    "        'path': './aug_crop1/mgr',\n",
    "        'scores': [0.9922, 0.9959, 0.9982, 0.9970, 0.9972]\n",
    "    },\n",
    "#     {\n",
    "#         'name': 'poutine_densenet, DenseNet 100%, Gradcam',\n",
    "#         'title': 'poutine',\n",
    "#         'path': './aug_crop1/rotation/poutine_densenet',\n",
    "#         'scores': [0.9982, 0.9961, 0.9959, 0.9971, 0.9984]\n",
    "#     },\n",
    "#     {\n",
    "#         'name': 'rose_resnet, Resnet 60%, Gradcam',\n",
    "#         'title': 'red_rose',\n",
    "#         'path': './aug_crop1/rotation/rose_resnet',\n",
    "#         'scores': [0.9928, 0.9930, 0.9665, 0.9613, 0.9578]\n",
    "#     }\n",
    "]"
   ]
  },
  {
   "cell_type": "code",
   "execution_count": 4,
   "metadata": {},
   "outputs": [],
   "source": [
    "path = \"./aug_crop1/rotation\"\n",
    "image_pos = (14, 103, 14 + 368, 103 + 367)\n",
    "attr_pos = (407, 103, 407 + 368, 103 + 367)\n",
    "desc_pos = (74, 10, 74 + 657, 10 + 45)\n",
    "range_pos = (396, 477, 396 + 390, 477 + 44)\n",
    "all_images = []\n",
    "\n",
    "def crop(img_pos, att_pos, base_dir):\n",
    "    croppedImgs = []\n",
    "    croppedAttrs = []\n",
    "    croppedDesc = []\n",
    "    croppedRanges = []\n",
    "    names = []\n",
    "    for item in dirs:\n",
    "        fullpath = os.path.join(base_dir,item)        \n",
    "        if os.path.isfile(fullpath):\n",
    "            im = Image.open(fullpath)\n",
    "            croppedImgs.append(im.crop(img_pos))\n",
    "            croppedAttrs.append(im.crop(attr_pos))\n",
    "            croppedDesc.append(im.crop(desc_pos))\n",
    "            croppedRanges.append(im.crop(range_pos))\n",
    "            names.append(fullpath)\n",
    "            \n",
    "    return croppedImgs, croppedAttrs, croppedDesc, croppedRanges, names\n",
    "\n",
    "\n",
    "for img_def in images:\n",
    "    dirs = os.listdir(img_def['path'])\n",
    "    dirs.sort()\n",
    "    imgs, attrs, descs, ranges, names = crop(image_pos, attr_pos, img_def['path'])\n",
    "    all_images = all_images + list(zip(imgs, attrs, descs, ranges, names))\n",
    "    \n",
    "    "
   ]
  },
  {
   "cell_type": "code",
   "execution_count": 5,
   "metadata": {},
   "outputs": [],
   "source": [
    "vert_images = []\n",
    "font = ImageFont.truetype(\"/usr/share/fonts/truetype/freefont/FreeSansBold.ttf\", 16)\n",
    "for image in all_images:\n",
    "    title_w, title_h = image[2].size\n",
    "    bg_width = max(400, title_w)\n",
    "    background = Image.new(\"RGB\", (bg_width, 927), (255, 255, 255))\n",
    "    bg_w, bg_h = background.size\n",
    "    title_offset = ((bg_w - title_w) // 2, 19)\n",
    "    image_offset = (bg_w - image[0].size[0]) // 2\n",
    "    background.paste(image[0], (image_offset, 102))\n",
    "    background.paste(image[1], (image_offset, 496))\n",
    "    background.paste(image[2], title_offset)\n",
    "    background.paste(image[3], (image_offset - 10, 872))\n",
    "    \n",
    "    invrtd = ImageOps.invert(background)\n",
    "    cropBox = ImageOps.invert(background).getbbox()\n",
    "    left_border = cropBox[0] - 10\n",
    "    right_border = cropBox[2] + 10\n",
    "    \n",
    "    \n",
    "    ImageDraw.Draw(\n",
    "        background  # Image\n",
    "    ).text(\n",
    "        (284, 477),  # Coordinates\n",
    "        'saliency_map',  # Text\n",
    "        (0, 0, 0),  # Color\n",
    "        font=font\n",
    "    )\n",
    "    ImageDraw.Draw(\n",
    "        background  # Image\n",
    "    ).text(\n",
    "        (314, 82),  # Coordinates\n",
    "        'input',  # Text\n",
    "        (0, 0, 0),  # Color\n",
    "        font=font\n",
    "    )\n",
    "    vert_images.append((background.crop((left_border, 0, right_border, 927)), image[4]))\n",
    "    "
   ]
  },
  {
   "cell_type": "code",
   "execution_count": 6,
   "metadata": {},
   "outputs": [
    {
     "data": {
      "text/plain": [
       "(<PIL.Image.Image image mode=RGB size=408x927 at 0x7EFDE6F569A0>,\n",
       " './aug_crop1/mgr/3-0-22-none-cairn-cairn.png')"
      ]
     },
     "execution_count": 6,
     "metadata": {},
     "output_type": "execute_result"
    }
   ],
   "source": [
    "vert_images[0]"
   ]
  },
  {
   "cell_type": "code",
   "execution_count": 7,
   "metadata": {},
   "outputs": [],
   "source": [
    "vert_images[1][0].show() "
   ]
  },
  {
   "cell_type": "code",
   "execution_count": 8,
   "metadata": {},
   "outputs": [
    {
     "name": "stdout",
     "output_type": "stream",
     "text": [
      "./aug_crop1/mgr/3-0-22-none-cairn-cairn_vert.jpg\n",
      "./aug_crop1/mgr/3-2-22-normalize_local 8,10-cairn-cairn_vert.jpg\n",
      "./aug_crop1/mgr/3-5-22-sharpen 300-cairn-cairn_vert.jpg\n"
     ]
    }
   ],
   "source": [
    "for image in vert_images:\n",
    "    print(image[1][:-4]+'_vert.jpg')\n",
    "    image[0].save(image[1][:-4]+'_vert.jpg', \"JPEG\")"
   ]
  },
  {
   "cell_type": "code",
   "execution_count": null,
   "metadata": {},
   "outputs": [],
   "source": []
  }
 ],
 "metadata": {
  "kernelspec": {
   "display_name": "Python 3",
   "language": "python",
   "name": "python3"
  },
  "language_info": {
   "codemirror_mode": {
    "name": "ipython",
    "version": 3
   },
   "file_extension": ".py",
   "mimetype": "text/x-python",
   "name": "python",
   "nbconvert_exporter": "python",
   "pygments_lexer": "ipython3",
   "version": "3.8.5"
  }
 },
 "nbformat": 4,
 "nbformat_minor": 4
}
