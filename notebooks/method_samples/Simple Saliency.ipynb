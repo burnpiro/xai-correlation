{
 "cells": [
  {
   "cell_type": "code",
   "execution_count": 1,
   "metadata": {},
   "outputs": [],
   "source": [
    "import torch\n",
    "import csv\n",
    "import math\n",
    "\n",
    "import numpy as np\n",
    "import pandas as pd\n",
    "from matplotlib.colors import LinearSegmentedColormap\n",
    "import matplotlib.pyplot as plt\n",
    "import matplotlib.image as mpimg\n",
    "\n",
    "import torchvision\n",
    "from torchvision import models\n",
    "import torch.nn as nn\n",
    "import torch.nn.functional as F\n",
    "\n",
    "from captum.attr import Saliency\n",
    "from captum.attr import NoiseTunnel\n",
    "from captum.attr import visualization as viz\n",
    "from captum.metrics import infidelity, sensitivity_max, infidelity_perturb_func_decorator\n",
    "\n",
    "from helpers import get_labels, get_input_image, predict\n",
    "\n",
    "default_cmap = LinearSegmentedColormap.from_list('custom blue', \n",
    "                                                 [(0, '#ffffff'),\n",
    "                                                  (0.25, '#ffffff'),\n",
    "                                                  (1, '#000000')], N=256)\n",
    "torch.manual_seed(42)\n",
    "np.random.seed(42)"
   ]
  },
  {
   "cell_type": "markdown",
   "metadata": {},
   "source": [
    "## Initialize Resnet18\n",
    "\n",
    "[Deep Residual Learning for Image Recognition](https://arxiv.org/abs/1512.03385)"
   ]
  },
  {
   "cell_type": "code",
   "execution_count": 2,
   "metadata": {},
   "outputs": [],
   "source": [
    "# Equates to one random 6x6 image\n",
    "random_data = torch.rand((5, 1, 6, 6))\n",
    "random_y = torch.tensor([[0,1], [0,1], [1,0], [0,1], [1,0]])\n",
    "# random_y = torch.randint(low=0, high=2, size=(5,2), dtype=torch.float32)\n",
    "\n",
    "# my_nn = Net()\n",
    "# result = my_nn(random_data)\n",
    "# print (my_nn)\n",
    "# print(result)\n",
    "# print(random_data)\n",
    "# print(random_y)"
   ]
  },
  {
   "cell_type": "code",
   "execution_count": 37,
   "metadata": {},
   "outputs": [],
   "source": [
    "df = pd.DataFrame([[\"a\", 2], [\"b\", 2], [\"c\", 3]], columns=[[\"path\", \"class\"]])"
   ]
  },
  {
   "cell_type": "code",
   "execution_count": 38,
   "metadata": {},
   "outputs": [
    {
     "data": {
      "text/html": [
       "<div>\n",
       "<style scoped>\n",
       "    .dataframe tbody tr th:only-of-type {\n",
       "        vertical-align: middle;\n",
       "    }\n",
       "\n",
       "    .dataframe tbody tr th {\n",
       "        vertical-align: top;\n",
       "    }\n",
       "\n",
       "    .dataframe thead tr th {\n",
       "        text-align: left;\n",
       "    }\n",
       "</style>\n",
       "<table border=\"1\" class=\"dataframe\">\n",
       "  <thead>\n",
       "    <tr>\n",
       "      <th></th>\n",
       "      <th>path</th>\n",
       "      <th>class</th>\n",
       "    </tr>\n",
       "  </thead>\n",
       "  <tbody>\n",
       "    <tr>\n",
       "      <th>0</th>\n",
       "      <td>a</td>\n",
       "      <td>2</td>\n",
       "    </tr>\n",
       "    <tr>\n",
       "      <th>1</th>\n",
       "      <td>b</td>\n",
       "      <td>2</td>\n",
       "    </tr>\n",
       "    <tr>\n",
       "      <th>2</th>\n",
       "      <td>c</td>\n",
       "      <td>3</td>\n",
       "    </tr>\n",
       "  </tbody>\n",
       "</table>\n",
       "</div>"
      ],
      "text/plain": [
       "  path class\n",
       "0    a     2\n",
       "1    b     2\n",
       "2    c     3"
      ]
     },
     "execution_count": 38,
     "metadata": {},
     "output_type": "execute_result"
    }
   ],
   "source": [
    "df"
   ]
  },
  {
   "cell_type": "code",
   "execution_count": 39,
   "metadata": {},
   "outputs": [],
   "source": [
    "new_df = pd.DataFrame()"
   ]
  },
  {
   "cell_type": "code",
   "execution_count": 43,
   "metadata": {},
   "outputs": [
    {
     "name": "stdout",
     "output_type": "stream",
     "text": [
      "-20 -20\n",
      "-10 -10\n",
      "0 0\n",
      "10 10\n",
      "20 20\n"
     ]
    }
   ],
   "source": [
    "for rotation in range(-20, 30, 10):\n",
    "    print(rotation, str(rotation))\n",
    "    df1 = df.copy()\n",
    "    df1['rotation'] = str(rotation)\n",
    "    new_df = pd.concat([new_df, df1], ignore_index=True)"
   ]
  },
  {
   "cell_type": "code",
   "execution_count": 48,
   "metadata": {},
   "outputs": [
    {
     "data": {
      "text/plain": [
       "-20"
      ]
     },
     "execution_count": 48,
     "metadata": {},
     "output_type": "execute_result"
    }
   ],
   "source": [
    "int(new_df.iloc[0]['rotation'])"
   ]
  },
  {
   "cell_type": "code",
   "execution_count": 42,
   "metadata": {},
   "outputs": [
    {
     "data": {
      "text/html": [
       "<div>\n",
       "<style scoped>\n",
       "    .dataframe tbody tr th:only-of-type {\n",
       "        vertical-align: middle;\n",
       "    }\n",
       "\n",
       "    .dataframe tbody tr th {\n",
       "        vertical-align: top;\n",
       "    }\n",
       "\n",
       "    .dataframe thead tr th {\n",
       "        text-align: left;\n",
       "    }\n",
       "</style>\n",
       "<table border=\"1\" class=\"dataframe\">\n",
       "  <thead>\n",
       "    <tr>\n",
       "      <th></th>\n",
       "      <th>path</th>\n",
       "      <th>class</th>\n",
       "      <th>rotation</th>\n",
       "    </tr>\n",
       "  </thead>\n",
       "  <tbody>\n",
       "    <tr>\n",
       "      <th>0</th>\n",
       "      <td>a</td>\n",
       "      <td>2</td>\n",
       "      <td>20</td>\n",
       "    </tr>\n",
       "    <tr>\n",
       "      <th>1</th>\n",
       "      <td>b</td>\n",
       "      <td>2</td>\n",
       "      <td>20</td>\n",
       "    </tr>\n",
       "    <tr>\n",
       "      <th>2</th>\n",
       "      <td>c</td>\n",
       "      <td>3</td>\n",
       "      <td>20</td>\n",
       "    </tr>\n",
       "  </tbody>\n",
       "</table>\n",
       "</div>"
      ],
      "text/plain": [
       "  path class rotation\n",
       "0    a     2       20\n",
       "1    b     2       20\n",
       "2    c     3       20"
      ]
     },
     "execution_count": 42,
     "metadata": {},
     "output_type": "execute_result"
    }
   ],
   "source": [
    "pd.concat([new_df, df1], ignore_index=True)"
   ]
  },
  {
   "cell_type": "code",
   "execution_count": 4,
   "metadata": {},
   "outputs": [
    {
     "name": "stdout",
     "output_type": "stream",
     "text": [
      "99 2.137282609939575\n",
      "199 1.4483171701431274\n",
      "299 0.5370581150054932\n",
      "399 0.20430247485637665\n",
      "499 0.10530705749988556\n",
      "599 0.06592129170894623\n",
      "699 0.04625856131315231\n",
      "799 0.03490527719259262\n",
      "899 0.02766229212284088\n",
      "999 0.022705908864736557\n",
      "1099 0.019133564084768295\n",
      "1199 0.016454190015792847\n",
      "1299 0.014380457811057568\n",
      "1399 0.01273411326110363\n",
      "1499 0.011399404145777225\n",
      "1599 0.010298253037035465\n",
      "1699 0.009376081638038158\n",
      "1799 0.008593873120844364\n",
      "1899 0.007922956719994545\n",
      "1999 0.007341901771724224\n"
     ]
    }
   ],
   "source": [
    "size = 3\n",
    "x = torch.rand((5, 1, size, size))\n",
    "y = torch.tensor([[0,1], [0,1], [1,0], [0,1], [1,0]])\n",
    "loss_fn = torch.nn.MSELoss(reduction='sum')\n",
    "D_in = (1,6,6)\n",
    "\n",
    "model = torch.nn.Sequential(\n",
    "    torch.nn.Flatten(),\n",
    "    torch.nn.Linear(size*size, 4),\n",
    "    torch.nn.ReLU(),\n",
    "    torch.nn.Linear(4, 2),\n",
    "    torch.nn.Softmax(1)\n",
    ")\n",
    "\n",
    "learning_rate = 1e-2\n",
    "for t in range(2000):\n",
    "#     print(x.shape)\n",
    "    y_pred = model(x)\n",
    "    y = y.to(torch.float32)\n",
    "    loss = loss_fn(y_pred, y)\n",
    "    if t % 100 == 99:\n",
    "        print(t, loss.item())\n",
    "    model.zero_grad()\n",
    "    loss.backward()\n",
    "    with torch.no_grad():\n",
    "        for param in model.parameters():\n",
    "            param -= learning_rate * param.grad\n"
   ]
  },
  {
   "cell_type": "code",
   "execution_count": 6,
   "metadata": {},
   "outputs": [],
   "source": [
    "torch.save(model, './model.pkl')"
   ]
  },
  {
   "cell_type": "code",
   "execution_count": 7,
   "metadata": {},
   "outputs": [
    {
     "data": {
      "text/plain": [
       "Sequential(\n",
       "  (0): Flatten(start_dim=1, end_dim=-1)\n",
       "  (1): Linear(in_features=9, out_features=4, bias=True)\n",
       "  (2): ReLU()\n",
       "  (3): Linear(in_features=4, out_features=2, bias=True)\n",
       "  (4): Softmax(dim=1)\n",
       ")"
      ]
     },
     "execution_count": 7,
     "metadata": {},
     "output_type": "execute_result"
    }
   ],
   "source": [
    "model = torch.load('./model.pkl')\n",
    "model.eval()"
   ]
  },
  {
   "cell_type": "code",
   "execution_count": 8,
   "metadata": {},
   "outputs": [
    {
     "name": "stdout",
     "output_type": "stream",
     "text": [
      "torch.Size([1, 1, 3, 3])\n",
      "tensor([[0.9889, 0.0111]], grad_fn=<SoftmaxBackward>)\n"
     ]
    }
   ],
   "source": [
    "x_test = torch.rand((1, 1, size, size))\n",
    "model.eval()\n",
    "print(x[0].unsqueeze(0).shape)\n",
    "result = model(x_test)\n",
    "print(result)"
   ]
  },
  {
   "cell_type": "code",
   "execution_count": 9,
   "metadata": {},
   "outputs": [
    {
     "name": "stderr",
     "output_type": "stream",
     "text": [
      "/home/piro/anaconda3/envs/assignment-1-burnpiro/lib/python3.8/site-packages/captum/_utils/gradient.py:53: UserWarning: Input Tensor 0 did not already require gradients, required_grads has been set automatically.\n",
      "  warnings.warn(\n"
     ]
    }
   ],
   "source": [
    "sali = Saliency(model)\n",
    "attributions_sali = sali.attribute(x_test, target=0)"
   ]
  },
  {
   "cell_type": "code",
   "execution_count": 10,
   "metadata": {},
   "outputs": [
    {
     "name": "stdout",
     "output_type": "stream",
     "text": [
      "torch.Size([1, 1, 3, 3])\n",
      "torch.Size([1, 1, 3, 3])\n",
      "[[[0.00123872 0.02467672 0.04930959]\n",
      "  [0.10108921 0.02213562 0.02685863]\n",
      "  [0.08070823 0.00076442 0.01712421]]]\n",
      "[[[0.04094696 0.8343076  0.14735395]\n",
      "  [0.6872336  0.92312264 0.5070212 ]\n",
      "  [0.9549045  0.07397425 0.3090204 ]]]\n"
     ]
    }
   ],
   "source": [
    "print(attributions_sali.shape)\n",
    "print(x_test.shape)\n",
    "\n",
    "print(attributions_sali.squeeze(0).cpu().detach().numpy())\n",
    "print(x_test.squeeze(0).cpu().detach().numpy())"
   ]
  },
  {
   "cell_type": "code",
   "execution_count": 11,
   "metadata": {},
   "outputs": [
    {
     "data": {
      "image/png": "[encoded data removed]",
      "text/plain": [
       "<Figure size 576x432 with 4 Axes>"
      ]
     },
     "metadata": {
      "needs_background": "light"
     },
     "output_type": "display_data"
    }
   ],
   "source": [
    "_ = viz.visualize_image_attr_multiple(np.transpose(attributions_sali.squeeze(0).cpu().detach().numpy(), (1,2,0)),\n",
    "                                      np.transpose(x_test.squeeze(0).cpu().detach().numpy(), (1,2,0)),\n",
    "                                      [\"original_image\", \"heat_map\"],\n",
    "                                      [\"all\", \"positive\"],\n",
    "                                      cmap=default_cmap,\n",
    "                                      show_colorbar=True)"
   ]
  },
  {
   "cell_type": "code",
   "execution_count": 12,
   "metadata": {},
   "outputs": [],
   "source": [
    "sample_input = torch.tensor([[[[0, 0, 0],\n",
    "  [0,  0.49, 0],\n",
    "  [0,  0, 0]]]])\n",
    "\n",
    "sample_noise = torch.tensor([[[[0, 0,   0],\n",
    "  [ 0,  0.40, 0.0],\n",
    "  [0, 0.0,  0 ]]]])\n",
    "sample_diff = sample_input - sample_noise\n",
    "att_sam_in = sali.attribute(sample_input, target=0)\n",
    "att_sam_diff = sali.attribute(sample_diff, target=0)"
   ]
  },
  {
   "cell_type": "code",
   "execution_count": 13,
   "metadata": {},
   "outputs": [
    {
     "data": {
      "image/png": "[encoded data removed]",
      "text/plain": [
       "<Figure size 576x432 with 4 Axes>"
      ]
     },
     "metadata": {
      "needs_background": "light"
     },
     "output_type": "display_data"
    },
    {
     "data": {
      "image/png": "[encoded data removed]",
      "text/plain": [
       "<Figure size 576x432 with 4 Axes>"
      ]
     },
     "metadata": {
      "needs_background": "light"
     },
     "output_type": "display_data"
    }
   ],
   "source": [
    "_ = viz.visualize_image_attr_multiple(np.transpose(att_sam_in.squeeze(0).cpu().detach().numpy(), (1,2,0)),\n",
    "                                      np.transpose(sample_input.squeeze(0).cpu().detach().numpy(), (1,2,0)),\n",
    "                                      [\"original_image\", \"heat_map\"],\n",
    "                                      [\"all\", \"positive\"],\n",
    "                                      cmap=default_cmap,\n",
    "                                      show_colorbar=True)\n",
    "_ = viz.visualize_image_attr_multiple(np.transpose(att_sam_diff.squeeze(0).cpu().detach().numpy(), (1,2,0)),\n",
    "                                      np.transpose(sample_diff.squeeze(0).cpu().detach().numpy(), (1,2,0)),\n",
    "                                      [\"original_image\", \"heat_map\"],\n",
    "                                      [\"all\", \"positive\"],\n",
    "                                      cmap=default_cmap,\n",
    "                                      show_colorbar=True)"
   ]
  },
  {
   "cell_type": "code",
   "execution_count": 14,
   "metadata": {},
   "outputs": [
    {
     "name": "stdout",
     "output_type": "stream",
     "text": [
      "tensor([[0.2107, 0.7893]], grad_fn=<SoftmaxBackward>)\n",
      "tensor([[0.1068, 0.8932]], grad_fn=<SoftmaxBackward>)\n",
      "tensor([[[[0.0000, 0.0000, 0.0000],\n",
      "          [0.0000, 0.4900, 0.0000],\n",
      "          [0.0000, 0.0000, 0.0000]]]])\n",
      "tensor([[[[0.0000, 0.0000, 0.0000],\n",
      "          [0.0000, 0.0900, 0.0000],\n",
      "          [0.0000, 0.0000, 0.0000]]]])\n",
      "tensor([[[[0.0187, 0.3727, 0.7447],\n",
      "          [1.5266, 0.3343, 0.4056],\n",
      "          [1.2189, 0.0115, 0.2586]]]])\n",
      "tensor([[[[0.0107, 0.2136, 0.4269],\n",
      "          [0.8752, 0.1916, 0.2325],\n",
      "          [0.6988, 0.0066, 0.1483]]]])\n"
     ]
    }
   ],
   "source": [
    "print(model(sample_input))\n",
    "print(model(sample_diff))\n",
    "\n",
    "\n",
    "print(sample_input)\n",
    "print(sample_diff)\n",
    "\n",
    "print(att_sam_in)\n",
    "print(att_sam_diff)"
   ]
  },
  {
   "cell_type": "code",
   "execution_count": 15,
   "metadata": {},
   "outputs": [
    {
     "data": {
      "image/png": "[encoded data removed]",
      "text/plain": [
       "<Figure size 1800x1200 with 6 Axes>"
      ]
     },
     "metadata": {
      "needs_background": "light"
     },
     "output_type": "display_data"
    }
   ],
   "source": [
    "fig, ax = plt.subplots(3, 2, dpi=300)\n",
    "\n",
    "# tensor([[[[0.3312, 0.6058, 0.1969],\n",
    "#           [0.0613, 0.2893, 0.0752],\n",
    "#           [0.4238, 0.1407, 0.4040]]]])\n",
    "# tensor([[[[0.4997, 0.8028, 0.3548],\n",
    "#           [0.2774, 0.4064, 0.1228],\n",
    "#           [0.5218, 0.3199, 0.3999]]]])\n",
    "\n",
    "ax[0,0].imshow(np.transpose(sample_input[0].cpu().detach().numpy(), (1,2,0)),\n",
    "                                      cmap=default_cmap, vmax=0.5)\n",
    "ax[0,0].set_title('input', fontsize=6)\n",
    "ax[0,1].imshow(np.transpose(att_sam_in[0].cpu().detach().numpy(), (1,2,0)),\n",
    "                                      cmap=default_cmap, vmax=1)\n",
    "ax[0,1].set_title('attr', fontsize=6)\n",
    "ax[1,0].imshow(np.transpose(sample_diff[0].cpu().detach().numpy(), (1,2,0)),\n",
    "                                      cmap=default_cmap, vmax=0.5)\n",
    "ax[1,0].set_title('input - noise', fontsize=6)\n",
    "ax[1,1].imshow(np.transpose(att_sam_diff[0].cpu().detach().numpy(), (1,2,0)),\n",
    "                                      cmap=default_cmap, vmax=1)\n",
    "ax[1,1].set_title('attr (in-noise)', fontsize=6)\n",
    "ax[2,0].imshow(np.transpose(sample_noise[0].cpu().detach().numpy(), (1,2,0)),\n",
    "                                      cmap=default_cmap, vmax=0.5)\n",
    "ax[2,0].set_title('noise', fontsize=6)\n",
    "# ax[1].imshow(np.transpose(att_sam_in[0].cpu().detach().numpy(), (1,2,0)),\n",
    "#                                       cmap=default_cmap)\n",
    "# ax[1].imshow(att_sam_in[0])\n",
    "\n",
    "for ax_gr in ax:\n",
    "    for ax_el in ax_gr:\n",
    "        ax_el.get_xaxis().set_visible(False)\n",
    "        ax_el.get_yaxis().set_visible(False)\n",
    "    "
   ]
  },
  {
   "cell_type": "markdown",
   "metadata": {},
   "source": [
    "### Calculate Infidelity and Sensitivity metrics\n",
    "\n",
    "[On the (In)fidelity and Sensitivity for Explanations](https://arxiv.org/abs/1901.09392)"
   ]
  },
  {
   "cell_type": "code",
   "execution_count": 149,
   "metadata": {},
   "outputs": [],
   "source": [
    "# We need that for metric calculation\n",
    "x_test.requires_grad = True"
   ]
  },
  {
   "cell_type": "code",
   "execution_count": 150,
   "metadata": {},
   "outputs": [
    {
     "name": "stdout",
     "output_type": "stream",
     "text": [
      "0.000025381\n"
     ]
    }
   ],
   "source": [
    "def perturb_fn(inputs):\n",
    "    noise = torch.tensor(np.random.normal(0, 0.003, inputs.shape)).float()\n",
    "#     print(noise)\n",
    "#     noise = torch.tensor([[[[0, 0,   0],\n",
    "#       [ 0,  0.5, 0.0],\n",
    "#       [0, 0.0,  0]]]])\n",
    "    noise = sample_noise\n",
    "    diff = inputs - noise\n",
    "    return noise, inputs - noise\n",
    "\n",
    "infid = infidelity(model, perturb_fn, sample_input, att_sam_in, target=0, n_perturb_samples=1)\n",
    "print('{:.9f}'.format(infid.numpy()[0]))"
   ]
  },
  {
   "cell_type": "code",
   "execution_count": 151,
   "metadata": {},
   "outputs": [],
   "source": [
    "sens = sensitivity_max(sali.attribute, sample_input, target=0)"
   ]
  },
  {
   "cell_type": "code",
   "execution_count": 152,
   "metadata": {},
   "outputs": [
    {
     "name": "stdout",
     "output_type": "stream",
     "text": [
      "Infidelity: 2.5380924853379838e-05, Sensitivity: 0.0\n"
     ]
    }
   ],
   "source": [
    "print(f\"Infidelity: {infid.numpy()[0]}, Sensitivity: {sens.numpy()[0]}\")"
   ]
  },
  {
   "cell_type": "code",
   "execution_count": null,
   "metadata": {},
   "outputs": [],
   "source": []
  },
  {
   "cell_type": "code",
   "execution_count": null,
   "metadata": {},
   "outputs": [],
   "source": []
  },
  {
   "cell_type": "code",
   "execution_count": null,
   "metadata": {},
   "outputs": [],
   "source": []
  },
  {
   "cell_type": "code",
   "execution_count": null,
   "metadata": {},
   "outputs": [],
   "source": []
  },
  {
   "cell_type": "code",
   "execution_count": null,
   "metadata": {},
   "outputs": [],
   "source": []
  },
  {
   "cell_type": "code",
   "execution_count": null,
   "metadata": {},
   "outputs": [],
   "source": []
  },
  {
   "cell_type": "code",
   "execution_count": null,
   "metadata": {},
   "outputs": [],
   "source": []
  },
  {
   "cell_type": "code",
   "execution_count": null,
   "metadata": {},
   "outputs": [],
   "source": []
  },
  {
   "cell_type": "code",
   "execution_count": null,
   "metadata": {},
   "outputs": [],
   "source": []
  },
  {
   "cell_type": "code",
   "execution_count": null,
   "metadata": {},
   "outputs": [],
   "source": []
  },
  {
   "cell_type": "code",
   "execution_count": null,
   "metadata": {},
   "outputs": [],
   "source": []
  },
  {
   "cell_type": "code",
   "execution_count": null,
   "metadata": {},
   "outputs": [],
   "source": []
  },
  {
   "cell_type": "code",
   "execution_count": null,
   "metadata": {},
   "outputs": [],
   "source": []
  },
  {
   "cell_type": "code",
   "execution_count": null,
   "metadata": {},
   "outputs": [],
   "source": []
  },
  {
   "cell_type": "code",
   "execution_count": null,
   "metadata": {},
   "outputs": [],
   "source": []
  },
  {
   "cell_type": "code",
   "execution_count": null,
   "metadata": {},
   "outputs": [],
   "source": []
  },
  {
   "cell_type": "code",
   "execution_count": null,
   "metadata": {},
   "outputs": [],
   "source": []
  },
  {
   "cell_type": "code",
   "execution_count": null,
   "metadata": {},
   "outputs": [],
   "source": []
  },
  {
   "cell_type": "code",
   "execution_count": null,
   "metadata": {},
   "outputs": [],
   "source": []
  },
  {
   "cell_type": "code",
   "execution_count": null,
   "metadata": {},
   "outputs": [],
   "source": []
  },
  {
   "cell_type": "code",
   "execution_count": null,
   "metadata": {},
   "outputs": [],
   "source": []
  },
  {
   "cell_type": "code",
   "execution_count": null,
   "metadata": {},
   "outputs": [],
   "source": []
  },
  {
   "cell_type": "code",
   "execution_count": null,
   "metadata": {},
   "outputs": [],
   "source": []
  },
  {
   "cell_type": "code",
   "execution_count": null,
   "metadata": {},
   "outputs": [],
   "source": []
  },
  {
   "cell_type": "code",
   "execution_count": null,
   "metadata": {},
   "outputs": [],
   "source": []
  },
  {
   "cell_type": "code",
   "execution_count": null,
   "metadata": {},
   "outputs": [],
   "source": []
  }
 ],
 "metadata": {
  "kernelspec": {
   "display_name": "Python 3",
   "language": "python",
   "name": "python3"
  },
  "language_info": {
   "codemirror_mode": {
    "name": "ipython",
    "version": 3
   },
   "file_extension": ".py",
   "mimetype": "text/x-python",
   "name": "python",
   "nbconvert_exporter": "python",
   "pygments_lexer": "ipython3",
   "version": "3.8.5"
  }
 },
 "nbformat": 4,
 "nbformat_minor": 5
}
